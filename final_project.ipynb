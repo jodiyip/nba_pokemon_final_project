{
 "cells": [
  {
   "cell_type": "code",
   "execution_count": 13,
   "metadata": {},
   "outputs": [],
   "source": [
    "import pandas as pd"
   ]
  },
  {
   "cell_type": "code",
   "execution_count": 64,
   "metadata": {},
   "outputs": [],
   "source": [
    "basketball_url = pd.read_html('https://www.foxsports.com/nba/stats?season=2018&category=ADVANCED&group=1&sort=5&time=0&pos=0&team=0&qual=1&sortOrder=0&opp=0&page=1')\n",
    "df = basketball_url[0]\n",
    "basketball_url1 = pd.read_html('https://www.foxsports.com/nba/stats?season=2018&category=ADVANCED&group=1&sort=5&time=0&pos=0&team=0&qual=1&sortOrder=0&opp=0&page=2')\n",
    "df1 = basketball_url1[0]\n",
    "basketball_url2 = pd.read_html('https://www.foxsports.com/nba/stats?season=2018&category=ADVANCED&group=1&sort=5&time=0&pos=0&team=0&qual=1&sortOrder=0&opp=0&page=3')\n",
    "df2 = basketball_url2[0]\n",
    "basketball_url3 = pd.read_html('https://www.foxsports.com/nba/stats?season=2018&category=ADVANCED&group=1&sort=5&time=0&pos=0&team=0&qual=1&sortOrder=0&opp=0&page=4')\n",
    "df3 = basketball_url3[0]"
   ]
  },
  {
   "cell_type": "code",
   "execution_count": 110,
   "metadata": {},
   "outputs": [],
   "source": [
    "basketball = pd.concat([df, df1, df2, df3])"
   ]
  },
  {
   "cell_type": "code",
   "execution_count": 111,
   "metadata": {},
   "outputs": [],
   "source": [
    "nba = basketball[['ADVANCED', 'OFF RTG', 'DEF RTG', 'MPG']]"
   ]
  },
  {
   "cell_type": "code",
   "execution_count": 112,
   "metadata": {},
   "outputs": [],
   "source": [
    "nba_offense = nba.sort_values('OFF RTG',ascending=False)"
   ]
  },
  {
   "cell_type": "code",
   "execution_count": 113,
   "metadata": {},
   "outputs": [],
   "source": [
    "nba_defense = nba.sort_values('DEF RTG',ascending=False)"
   ]
  },
  {
   "cell_type": "code",
   "execution_count": 114,
   "metadata": {},
   "outputs": [],
   "source": [
    "nba_mpg = nba.sort_values('MPG',ascending=False)"
   ]
  },
  {
   "cell_type": "code",
   "execution_count": 52,
   "metadata": {},
   "outputs": [
    {
     "name": "stderr",
     "output_type": "stream",
     "text": [
      "C:\\Users\\jodiy\\Anaconda3.1\\lib\\site-packages\\ipykernel_launcher.py:7: SettingWithCopyWarning: \n",
      "A value is trying to be set on a copy of a slice from a DataFrame.\n",
      "Try using .loc[row_indexer,col_indexer] = value instead\n",
      "\n",
      "See the caveats in the documentation: http://pandas.pydata.org/pandas-docs/stable/indexing.html#indexing-view-versus-copy\n",
      "  import sys\n"
     ]
    }
   ],
   "source": [
    "# normalize offense 50/50\n",
    "bball_offense_normalized_half = (basketball['OFF RTG']/134.6) * 0.5\n",
    "# normalize defense 50/50\n",
    "bball_defense_normalized_half = (basketball['DEF RTG']/132.0) * 0.5\n",
    "# normalize mpg\n",
    "bball_mpg_normalized = (basketball['MPG']/36.9)\n",
    "nba['Normalized NBA Score'] = (bball_offense_normalized_half + bball_defense_normalized_half) * bball_mpg_normalized"
   ]
  },
  {
   "cell_type": "code",
   "execution_count": 98,
   "metadata": {},
   "outputs": [],
   "source": [
    "final_nba_half = nba.sort_values('Normalized NBA Score',ascending=False)\n",
    "nba_dataset_half = final_nba_half.reset_index()"
   ]
  },
  {
   "cell_type": "code",
   "execution_count": 115,
   "metadata": {},
   "outputs": [],
   "source": [
    "# nba_dataset_half"
   ]
  },
  {
   "cell_type": "markdown",
   "metadata": {},
   "source": [
    "Pokemon Dataset"
   ]
  },
  {
   "cell_type": "code",
   "execution_count": 23,
   "metadata": {},
   "outputs": [],
   "source": [
    "pokemon_csv = pd.read_csv('data/Pokemon.csv')"
   ]
  },
  {
   "cell_type": "code",
   "execution_count": 75,
   "metadata": {},
   "outputs": [],
   "source": [
    "poke = pokemon_csv[~pokemon_csv.Name.str.contains('Mega', 'Primal')]\n",
    "poke_1 = poke[~poke.Name.str.contains(\"Primal\")]"
   ]
  },
  {
   "cell_type": "code",
   "execution_count": 104,
   "metadata": {},
   "outputs": [],
   "source": [
    "poke1 = poke_1[['Name','Attack', 'Defense','Generation']]"
   ]
  },
  {
   "cell_type": "code",
   "execution_count": 105,
   "metadata": {},
   "outputs": [],
   "source": [
    "poke2 = poke1[(poke1['Generation']) != 5]\n",
    "pokemon = poke2[(poke2['Generation']) != 6]"
   ]
  },
  {
   "cell_type": "code",
   "execution_count": 116,
   "metadata": {},
   "outputs": [],
   "source": [
    "pokemon_offense = pokemon.sort_values('Attack',ascending=False)"
   ]
  },
  {
   "cell_type": "code",
   "execution_count": 117,
   "metadata": {},
   "outputs": [],
   "source": [
    "pokemon_defense = pokemon.sort_values('Defense',ascending=False)"
   ]
  },
  {
   "cell_type": "code",
   "execution_count": 108,
   "metadata": {},
   "outputs": [
    {
     "name": "stderr",
     "output_type": "stream",
     "text": [
      "C:\\Users\\jodiy\\Anaconda3.1\\lib\\site-packages\\ipykernel_launcher.py:5: SettingWithCopyWarning: \n",
      "A value is trying to be set on a copy of a slice from a DataFrame.\n",
      "Try using .loc[row_indexer,col_indexer] = value instead\n",
      "\n",
      "See the caveats in the documentation: http://pandas.pydata.org/pandas-docs/stable/indexing.html#indexing-view-versus-copy\n",
      "  \"\"\"\n"
     ]
    }
   ],
   "source": [
    "# normalize offense 50/50\n",
    "poke_offense_normalized_half = (pokemon['Attack']/180) * 0.5\n",
    "# normalize defense 50/50\n",
    "poke_defense_normalized_half = (pokemon['Defense']/230) * 0.5\n",
    "pokemon['Normalized Pokemon Score'] = poke_offense_normalized_half + poke_defense_normalized_half"
   ]
  },
  {
   "cell_type": "code",
   "execution_count": 95,
   "metadata": {},
   "outputs": [],
   "source": [
    "final_pokemon_half = pokemon.sort_values('Normalized Pokemon Score',ascending=False)\n",
    "pokemon_dataset_half = final_pokemon_half.reset_index()"
   ]
  },
  {
   "cell_type": "code",
   "execution_count": 118,
   "metadata": {},
   "outputs": [],
   "source": [
    "data_joined = pd.concat([nba_dataset_half, pokemon_dataset_half], axis=1, sort=False)"
   ]
  },
  {
   "cell_type": "code",
   "execution_count": 109,
   "metadata": {},
   "outputs": [
    {
     "data": {
      "text/html": [
       "<div>\n",
       "<style scoped>\n",
       "    .dataframe tbody tr th:only-of-type {\n",
       "        vertical-align: middle;\n",
       "    }\n",
       "\n",
       "    .dataframe tbody tr th {\n",
       "        vertical-align: top;\n",
       "    }\n",
       "\n",
       "    .dataframe thead th {\n",
       "        text-align: right;\n",
       "    }\n",
       "</style>\n",
       "<table border=\"1\" class=\"dataframe\">\n",
       "  <thead>\n",
       "    <tr style=\"text-align: right;\">\n",
       "      <th></th>\n",
       "      <th>ADVANCED</th>\n",
       "      <th>Normalized NBA Score</th>\n",
       "      <th>Normalized Pokemon Score</th>\n",
       "      <th>Name</th>\n",
       "    </tr>\n",
       "  </thead>\n",
       "  <tbody>\n",
       "    <tr>\n",
       "      <th>0</th>\n",
       "      <td>Beal, Bradley  Beal, B. WAS</td>\n",
       "      <td>0.854581</td>\n",
       "      <td>0.721014</td>\n",
       "      <td>Groudon</td>\n",
       "    </tr>\n",
       "    <tr>\n",
       "      <th>1</th>\n",
       "      <td>50  Harden, James  Harden, J. HOU</td>\n",
       "      <td>0.846242</td>\n",
       "      <td>0.712560</td>\n",
       "      <td>Regirock</td>\n",
       "    </tr>\n",
       "    <tr>\n",
       "      <th>2</th>\n",
       "      <td>Lillard, Damian  Lillard, D. POR</td>\n",
       "      <td>0.842003</td>\n",
       "      <td>0.696860</td>\n",
       "      <td>Aggron</td>\n",
       "    </tr>\n",
       "    <tr>\n",
       "      <th>3</th>\n",
       "      <td>15  George, Paul  George, P. OKC</td>\n",
       "      <td>0.828604</td>\n",
       "      <td>0.683575</td>\n",
       "      <td>Regigigas</td>\n",
       "    </tr>\n",
       "    <tr>\n",
       "      <th>4</th>\n",
       "      <td>45  Capela, Clint  Capela, C. HOU</td>\n",
       "      <td>0.822027</td>\n",
       "      <td>0.671498</td>\n",
       "      <td>Rhyperior</td>\n",
       "    </tr>\n",
       "    <tr>\n",
       "      <th>5</th>\n",
       "      <td>Holiday, Jrue  Holiday, J. NOP</td>\n",
       "      <td>0.816108</td>\n",
       "      <td>0.670894</td>\n",
       "      <td>Steelix</td>\n",
       "    </tr>\n",
       "    <tr>\n",
       "      <th>6</th>\n",
       "      <td>Durant, Kevin  Durant, K. GSW</td>\n",
       "      <td>0.811107</td>\n",
       "      <td>0.661836</td>\n",
       "      <td>Slaking</td>\n",
       "    </tr>\n",
       "    <tr>\n",
       "      <th>7</th>\n",
       "      <td>Booker, Devin  Booker, D. PHX</td>\n",
       "      <td>0.809081</td>\n",
       "      <td>0.657609</td>\n",
       "      <td>Metagross</td>\n",
       "    </tr>\n",
       "    <tr>\n",
       "      <th>8</th>\n",
       "      <td>Walker, Kemba  Walker, K. CHA</td>\n",
       "      <td>0.800478</td>\n",
       "      <td>0.655193</td>\n",
       "      <td>Cloyster</td>\n",
       "    </tr>\n",
       "    <tr>\n",
       "      <th>9</th>\n",
       "      <td>47  James, LeBron  James, L. LAL</td>\n",
       "      <td>0.794913</td>\n",
       "      <td>0.621981</td>\n",
       "      <td>Rhydon</td>\n",
       "    </tr>\n",
       "    <tr>\n",
       "      <th>10</th>\n",
       "      <td>Harris, Tobias  Harris, T. PHI</td>\n",
       "      <td>0.794287</td>\n",
       "      <td>0.615942</td>\n",
       "      <td>Golem</td>\n",
       "    </tr>\n",
       "    <tr>\n",
       "      <th>11</th>\n",
       "      <td>Griffin, Blake  Griffin, B. DET</td>\n",
       "      <td>0.790874</td>\n",
       "      <td>0.612319</td>\n",
       "      <td>Rayquaza</td>\n",
       "    </tr>\n",
       "    <tr>\n",
       "      <th>12</th>\n",
       "      <td>Curry, Stephen  Curry, S. GSW</td>\n",
       "      <td>0.789645</td>\n",
       "      <td>0.611353</td>\n",
       "      <td>Tyranitar</td>\n",
       "    </tr>\n",
       "    <tr>\n",
       "      <th>13</th>\n",
       "      <td>Richardson, Josh  Richardson, J. MIA</td>\n",
       "      <td>0.784301</td>\n",
       "      <td>0.611111</td>\n",
       "      <td>Kingler</td>\n",
       "    </tr>\n",
       "    <tr>\n",
       "      <th>14</th>\n",
       "      <td>Butler, Jimmy  Butler, J. PHI</td>\n",
       "      <td>0.783878</td>\n",
       "      <td>0.594203</td>\n",
       "      <td>Dialga</td>\n",
       "    </tr>\n",
       "    <tr>\n",
       "      <th>15</th>\n",
       "      <td>DeRozan, DeMar  DeRozan, D. SAS</td>\n",
       "      <td>0.782717</td>\n",
       "      <td>0.594203</td>\n",
       "      <td>Arceus</td>\n",
       "    </tr>\n",
       "    <tr>\n",
       "      <th>16</th>\n",
       "      <td>McCollum, CJ  McCollum, C. POR</td>\n",
       "      <td>0.780927</td>\n",
       "      <td>0.594203</td>\n",
       "      <td>Donphan</td>\n",
       "    </tr>\n",
       "    <tr>\n",
       "      <th>17</th>\n",
       "      <td>Tucker, PJ  Tucker, P. HOU</td>\n",
       "      <td>0.780405</td>\n",
       "      <td>0.588768</td>\n",
       "      <td>Rampardos</td>\n",
       "    </tr>\n",
       "    <tr>\n",
       "      <th>18</th>\n",
       "      <td>21  Leonard, Kawhi  Leonard, K. TOR</td>\n",
       "      <td>0.776188</td>\n",
       "      <td>0.588164</td>\n",
       "      <td>Leafeon</td>\n",
       "    </tr>\n",
       "    <tr>\n",
       "      <th>19</th>\n",
       "      <td>LaVine, Zach  LaVine, Z. CHI</td>\n",
       "      <td>0.774715</td>\n",
       "      <td>0.578744</td>\n",
       "      <td>Dragonite</td>\n",
       "    </tr>\n",
       "    <tr>\n",
       "      <th>20</th>\n",
       "      <td>Conley, Mike  Conley, M. MEM</td>\n",
       "      <td>0.774589</td>\n",
       "      <td>0.578502</td>\n",
       "      <td>Scizor</td>\n",
       "    </tr>\n",
       "    <tr>\n",
       "      <th>21</th>\n",
       "      <td>44  Simmons, Ben  Simmons, B. PHI</td>\n",
       "      <td>0.769218</td>\n",
       "      <td>0.571256</td>\n",
       "      <td>Dusknoir</td>\n",
       "    </tr>\n",
       "    <tr>\n",
       "      <th>22</th>\n",
       "      <td>30  Adams, Steven  Adams, S. OKC</td>\n",
       "      <td>0.768959</td>\n",
       "      <td>0.567633</td>\n",
       "      <td>Hippowdon</td>\n",
       "    </tr>\n",
       "    <tr>\n",
       "      <th>23</th>\n",
       "      <td>42  Lowry, Kyle  Lowry, K. TOR</td>\n",
       "      <td>0.767793</td>\n",
       "      <td>0.567633</td>\n",
       "      <td>Garchomp</td>\n",
       "    </tr>\n",
       "    <tr>\n",
       "      <th>24</th>\n",
       "      <td>Ariza, Trevor  Ariza, T. WAS</td>\n",
       "      <td>0.766185</td>\n",
       "      <td>0.564614</td>\n",
       "      <td>Pinsir</td>\n",
       "    </tr>\n",
       "  </tbody>\n",
       "</table>\n",
       "</div>"
      ],
      "text/plain": [
       "                                ADVANCED  Normalized NBA Score  \\\n",
       "0            Beal, Bradley  Beal, B. WAS              0.854581   \n",
       "1      50  Harden, James  Harden, J. HOU              0.846242   \n",
       "2       Lillard, Damian  Lillard, D. POR              0.842003   \n",
       "3       15  George, Paul  George, P. OKC              0.828604   \n",
       "4      45  Capela, Clint  Capela, C. HOU              0.822027   \n",
       "5         Holiday, Jrue  Holiday, J. NOP              0.816108   \n",
       "6          Durant, Kevin  Durant, K. GSW              0.811107   \n",
       "7          Booker, Devin  Booker, D. PHX              0.809081   \n",
       "8          Walker, Kemba  Walker, K. CHA              0.800478   \n",
       "9       47  James, LeBron  James, L. LAL              0.794913   \n",
       "10        Harris, Tobias  Harris, T. PHI              0.794287   \n",
       "11       Griffin, Blake  Griffin, B. DET              0.790874   \n",
       "12         Curry, Stephen  Curry, S. GSW              0.789645   \n",
       "13  Richardson, Josh  Richardson, J. MIA              0.784301   \n",
       "14         Butler, Jimmy  Butler, J. PHI              0.783878   \n",
       "15       DeRozan, DeMar  DeRozan, D. SAS              0.782717   \n",
       "16        McCollum, CJ  McCollum, C. POR              0.780927   \n",
       "17            Tucker, PJ  Tucker, P. HOU              0.780405   \n",
       "18   21  Leonard, Kawhi  Leonard, K. TOR              0.776188   \n",
       "19          LaVine, Zach  LaVine, Z. CHI              0.774715   \n",
       "20          Conley, Mike  Conley, M. MEM              0.774589   \n",
       "21     44  Simmons, Ben  Simmons, B. PHI              0.769218   \n",
       "22      30  Adams, Steven  Adams, S. OKC              0.768959   \n",
       "23        42  Lowry, Kyle  Lowry, K. TOR              0.767793   \n",
       "24          Ariza, Trevor  Ariza, T. WAS              0.766185   \n",
       "\n",
       "    Normalized Pokemon Score       Name  \n",
       "0                   0.721014    Groudon  \n",
       "1                   0.712560   Regirock  \n",
       "2                   0.696860     Aggron  \n",
       "3                   0.683575  Regigigas  \n",
       "4                   0.671498  Rhyperior  \n",
       "5                   0.670894    Steelix  \n",
       "6                   0.661836    Slaking  \n",
       "7                   0.657609  Metagross  \n",
       "8                   0.655193   Cloyster  \n",
       "9                   0.621981     Rhydon  \n",
       "10                  0.615942      Golem  \n",
       "11                  0.612319   Rayquaza  \n",
       "12                  0.611353  Tyranitar  \n",
       "13                  0.611111    Kingler  \n",
       "14                  0.594203     Dialga  \n",
       "15                  0.594203     Arceus  \n",
       "16                  0.594203    Donphan  \n",
       "17                  0.588768  Rampardos  \n",
       "18                  0.588164    Leafeon  \n",
       "19                  0.578744  Dragonite  \n",
       "20                  0.578502     Scizor  \n",
       "21                  0.571256   Dusknoir  \n",
       "22                  0.567633  Hippowdon  \n",
       "23                  0.567633   Garchomp  \n",
       "24                  0.564614     Pinsir  "
      ]
     },
     "execution_count": 109,
     "metadata": {},
     "output_type": "execute_result"
    }
   ],
   "source": [
    "data_filtered = data_joined[['ADVANCED', 'Normalized NBA Score', 'Normalized Pokemon Score', 'Name']]\n",
    "data_filtered.head(25)"
   ]
  },
  {
   "cell_type": "code",
   "execution_count": 37,
   "metadata": {},
   "outputs": [],
   "source": [
    "import matplotlib.pyplot as plt"
   ]
  },
  {
   "cell_type": "code",
   "execution_count": 38,
   "metadata": {},
   "outputs": [],
   "source": [
    "%matplotlib inline"
   ]
  },
  {
   "cell_type": "code",
   "execution_count": 101,
   "metadata": {},
   "outputs": [
    {
     "data": {
      "text/plain": [
       "Text(0.5,1,'NBA Players vs Pokemon Normalized Score')"
      ]
     },
     "execution_count": 101,
     "metadata": {},
     "output_type": "execute_result"
    },
    {
     "data": {
      "image/png": "[encoded data removed]",
      "text/plain": [
       "<Figure size 432x288 with 1 Axes>"
      ]
     },
     "metadata": {},
     "output_type": "display_data"
    }
   ],
   "source": [
    "boxplot = data_filtered.boxplot(column=['Normalized NBA Score', 'Normalized Pokemon Score'])\n",
    "boxplot.set_title('NBA Players vs Pokemon Normalized Score')"
   ]
  }
 ],
 "metadata": {
  "kernelspec": {
   "display_name": "Python 3",
   "language": "python",
   "name": "python3"
  },
  "language_info": {
   "codemirror_mode": {
    "name": "ipython",
    "version": 3
   },
   "file_extension": ".py",
   "mimetype": "text/x-python",
   "name": "python",
   "nbconvert_exporter": "python",
   "pygments_lexer": "ipython3",
   "version": "3.6.5"
  }
 },
 "nbformat": 4,
 "nbformat_minor": 2
}
